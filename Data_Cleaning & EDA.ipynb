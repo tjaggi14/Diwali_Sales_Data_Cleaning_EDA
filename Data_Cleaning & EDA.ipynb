{
 "cells": [
  {
   "cell_type": "code",
   "execution_count": null,
   "id": "e8dee274",
   "metadata": {},
   "outputs": [],
   "source": [
    "import numpy as np\n",
    "import pandas as pd\n",
    "import matplotlib.pyplot as plt\n",
    "%matplotlib inline\n",
    "import seaborn as sns"
   ]
  },
  {
   "cell_type": "code",
   "execution_count": null,
   "id": "f70719be",
   "metadata": {},
   "outputs": [],
   "source": [
    "df = pd.read_csv(r'C:\\Users\\tjagg\\Downloads\\Python_Diwali_Sales_Analysis-main\\Python_Diwali_Sales_Analysis-main\\Diwali Sales Data.csv', encoding= 'unicode_escape')"
   ]
  },
  {
   "cell_type": "code",
   "execution_count": null,
   "id": "5593faec",
   "metadata": {},
   "outputs": [],
   "source": [
    "df.shape"
   ]
  },
  {
   "cell_type": "code",
   "execution_count": null,
   "id": "13c5b4c6",
   "metadata": {},
   "outputs": [],
   "source": [
    "df.head(10)"
   ]
  },
  {
   "cell_type": "code",
   "execution_count": null,
   "id": "fd5b40d7",
   "metadata": {},
   "outputs": [],
   "source": [
    "df.info()"
   ]
  },
  {
   "cell_type": "code",
   "execution_count": null,
   "id": "5cdc6948",
   "metadata": {},
   "outputs": [],
   "source": [
    "# #drop unrelated/blank columns\n",
    "df.drop(['Status','unnamed1'], axis=1, inplace=True)"
   ]
  },
  {
   "cell_type": "code",
   "execution_count": null,
   "id": "4ca88012",
   "metadata": {},
   "outputs": [],
   "source": [
    "df.shape"
   ]
  },
  {
   "cell_type": "code",
   "execution_count": null,
   "id": "3590e8ca",
   "metadata": {},
   "outputs": [],
   "source": [
    "# Check for null values\n",
    "pd.isnull(df).sum()"
   ]
  },
  {
   "cell_type": "code",
   "execution_count": null,
   "id": "199dfbb3",
   "metadata": {},
   "outputs": [],
   "source": [
    "# drop null values\n",
    "df.dropna(inplace=True)"
   ]
  },
  {
   "cell_type": "code",
   "execution_count": null,
   "id": "01d34cb4",
   "metadata": {},
   "outputs": [],
   "source": [
    "# changing data type\n",
    "df['Amount'] = df['Amount'].astype('int')"
   ]
  },
  {
   "cell_type": "code",
   "execution_count": null,
   "id": "535ad857",
   "metadata": {},
   "outputs": [],
   "source": [
    "df['Amount'].dtypes"
   ]
  },
  {
   "cell_type": "code",
   "execution_count": null,
   "id": "7bf38c03",
   "metadata": {},
   "outputs": [],
   "source": [
    "df.columns"
   ]
  },
  {
   "cell_type": "code",
   "execution_count": null,
   "id": "d614cdc0",
   "metadata": {},
   "outputs": [],
   "source": [
    "# renaming column just for practice\n",
    "df.rename(columns={'Marital_Status':'Shaadi'})"
   ]
  },
  {
   "cell_type": "code",
   "execution_count": null,
   "id": "0335df4f",
   "metadata": {},
   "outputs": [],
   "source": [
    "df.describe()"
   ]
  },
  {
   "cell_type": "code",
   "execution_count": null,
   "id": "21b1a2f1",
   "metadata": {},
   "outputs": [],
   "source": [
    "df[['Age','Orders','Amount']].describe()"
   ]
  },
  {
   "cell_type": "code",
   "execution_count": null,
   "id": "48bde656",
   "metadata": {},
   "outputs": [],
   "source": [
    "# EXPLORATORY DATA ANALYSIS"
   ]
  },
  {
   "cell_type": "code",
   "execution_count": null,
   "id": "3a961a14",
   "metadata": {},
   "outputs": [],
   "source": [
    "# 1) Gender"
   ]
  },
  {
   "cell_type": "code",
   "execution_count": null,
   "id": "fc11f07b",
   "metadata": {},
   "outputs": [],
   "source": [
    "# plotting a bar chart for Gender and it's count\n",
    "\n",
    "ax = sns.countplot(x = 'Gender',data = df)\n",
    "\n",
    "for bars in ax.containers:\n",
    "    ax.bar_label(bars)"
   ]
  },
  {
   "cell_type": "code",
   "execution_count": null,
   "id": "859f793a",
   "metadata": {},
   "outputs": [],
   "source": [
    "# plotting a bar chart for gender vs total amount\n",
    "\n",
    "sales_gen = df.groupby(['Gender'], as_index=False)['Amount'].sum().sort_values(by='Amount', ascending=False)\n",
    "\n",
    "sns.barplot(x = 'Gender',y= 'Amount' ,data = sales_gen)"
   ]
  },
  {
   "cell_type": "code",
   "execution_count": null,
   "id": "7694770e",
   "metadata": {},
   "outputs": [],
   "source": [
    "# My Observation:\n",
    "# From above graphs we can see that most of the buyers are females and even the purchasing power of females are greater than men."
   ]
  },
  {
   "cell_type": "code",
   "execution_count": null,
   "id": "45bb13ed",
   "metadata": {},
   "outputs": [],
   "source": [
    "# 2) Age"
   ]
  },
  {
   "cell_type": "code",
   "execution_count": null,
   "id": "c7d4fc7e",
   "metadata": {},
   "outputs": [],
   "source": [
    "df.columns"
   ]
  },
  {
   "cell_type": "code",
   "execution_count": null,
   "id": "d629e999",
   "metadata": {},
   "outputs": [],
   "source": [
    "ax = sns.countplot(data = df, x = 'Age Group', hue = 'Gender')\n",
    "\n",
    "for bars in ax.containers:\n",
    "    ax.bar_label(bars)"
   ]
  },
  {
   "cell_type": "code",
   "execution_count": null,
   "id": "0e643360",
   "metadata": {},
   "outputs": [],
   "source": [
    "# Total Amount vs Age Group\n",
    "sales_age = df.groupby(['Age Group'], as_index=False)['Amount'].sum().sort_values(by='Amount', ascending=False)\n",
    "\n",
    "sns.barplot(x = 'Age Group',y= 'Amount' ,data = sales_age)"
   ]
  },
  {
   "cell_type": "code",
   "execution_count": null,
   "id": "325ed286",
   "metadata": {},
   "outputs": [],
   "source": [
    "# My Observation:\n",
    "# From above graphs we can see that most of the buyers are of age group between 26-35 yrs female."
   ]
  },
  {
   "cell_type": "code",
   "execution_count": null,
   "id": "8c6231b4",
   "metadata": {},
   "outputs": [],
   "source": [
    "# 3) State"
   ]
  },
  {
   "cell_type": "code",
   "execution_count": null,
   "id": "cbeddf02",
   "metadata": {},
   "outputs": [],
   "source": [
    "# total number of orders from top 10 states\n",
    "\n",
    "sales_state = df.groupby(['State'], as_index=False)['Orders'].sum().sort_values(by='Orders', ascending=False).head(10)\n",
    "\n",
    "sns.set(rc={'figure.figsize':(15,5)})\n",
    "sns.barplot(data = sales_state, x = 'State',y= 'Orders')"
   ]
  },
  {
   "cell_type": "code",
   "execution_count": null,
   "id": "62258e6c",
   "metadata": {},
   "outputs": [],
   "source": [
    "# total amount/sales from top 10 states\n",
    "\n",
    "sales_state = df.groupby(['State'], as_index=False)['Amount'].sum().sort_values(by='Amount', ascending=False).head(10)\n",
    "\n",
    "sns.set(rc={'figure.figsize':(15,5)})\n",
    "sns.barplot(data = sales_state, x = 'State',y= 'Amount')"
   ]
  },
  {
   "cell_type": "code",
   "execution_count": null,
   "id": "5f0c77eb",
   "metadata": {},
   "outputs": [],
   "source": [
    "# My Observation:\n",
    "# From above graphs we can see that most of the orders & total sales/amount are from Uttar Pradesh, Maharashtra and Karnataka respectively."
   ]
  },
  {
   "cell_type": "code",
   "execution_count": null,
   "id": "882debce",
   "metadata": {},
   "outputs": [],
   "source": [
    "# 4) Marital Status"
   ]
  },
  {
   "cell_type": "code",
   "execution_count": null,
   "id": "c9768aa0",
   "metadata": {},
   "outputs": [],
   "source": [
    "ax = sns.countplot(data = df, x = 'Marital_Status')\n",
    "\n",
    "sns.set(rc={'figure.figsize':(7,5)})\n",
    "for bars in ax.containers:\n",
    "    ax.bar_label(bars)"
   ]
  },
  {
   "cell_type": "code",
   "execution_count": null,
   "id": "f1cabc29",
   "metadata": {},
   "outputs": [],
   "source": [
    "sales_state = df.groupby(['Marital_Status', 'Gender'], as_index=False)['Amount'].sum().sort_values(by='Amount', ascending=False)\n",
    "\n",
    "sns.set(rc={'figure.figsize':(6,5)})\n",
    "sns.barplot(data = sales_state, x = 'Marital_Status',y= 'Amount', hue='Gender')"
   ]
  },
  {
   "cell_type": "code",
   "execution_count": null,
   "id": "4dd8f0c3",
   "metadata": {},
   "outputs": [],
   "source": [
    "# My Observation:\n",
    "# From above graphs we can see that most of the buyers are married (women) and they have high purchasing power."
   ]
  },
  {
   "cell_type": "code",
   "execution_count": null,
   "id": "c3606fd9",
   "metadata": {},
   "outputs": [],
   "source": [
    "# 5) Occupation"
   ]
  },
  {
   "cell_type": "code",
   "execution_count": null,
   "id": "0487b609",
   "metadata": {},
   "outputs": [],
   "source": [
    "sns.set(rc={'figure.figsize':(20,5)})\n",
    "ax = sns.countplot(data = df, x = 'Occupation')\n",
    "\n",
    "for bars in ax.containers:\n",
    "    ax.bar_label(bars)"
   ]
  },
  {
   "cell_type": "code",
   "execution_count": null,
   "id": "f5f34920",
   "metadata": {},
   "outputs": [],
   "source": [
    "sales_state = df.groupby(['Occupation'], as_index=False)['Amount'].sum().sort_values(by='Amount', ascending=False)\n",
    "\n",
    "sns.set(rc={'figure.figsize':(20,5)})\n",
    "sns.barplot(data = sales_state, x = 'Occupation',y= 'Amount')"
   ]
  },
  {
   "cell_type": "code",
   "execution_count": null,
   "id": "d3d25769",
   "metadata": {},
   "outputs": [],
   "source": [
    "# My Observation:\n",
    "# From above graphs we can see that most of the buyers are working in IT, Healthcare and Aviation sector."
   ]
  },
  {
   "cell_type": "code",
   "execution_count": null,
   "id": "144c548f",
   "metadata": {},
   "outputs": [],
   "source": [
    "# 6) Product Category"
   ]
  },
  {
   "cell_type": "code",
   "execution_count": null,
   "id": "361ff614",
   "metadata": {},
   "outputs": [],
   "source": [
    "sns.set(rc={'figure.figsize':(20,5)})\n",
    "ax = sns.countplot(data = df, x = 'Product_Category')\n",
    "\n",
    "for bars in ax.containers:\n",
    "    ax.bar_label(bars)"
   ]
  },
  {
   "cell_type": "code",
   "execution_count": null,
   "id": "ef82b044",
   "metadata": {},
   "outputs": [],
   "source": [
    "sales_state = df.groupby(['Product_Category'], as_index=False)['Amount'].sum().sort_values(by='Amount', ascending=False).head(10)\n",
    "\n",
    "sns.set(rc={'figure.figsize':(20,5)})\n",
    "sns.barplot(data = sales_state, x = 'Product_Category',y= 'Amount')"
   ]
  },
  {
   "cell_type": "code",
   "execution_count": null,
   "id": "c398bc2d",
   "metadata": {},
   "outputs": [],
   "source": [
    "# From above graphs we can see that most of the sold products are from Food, Clothing and Electronics category."
   ]
  },
  {
   "cell_type": "code",
   "execution_count": null,
   "id": "8c04d237",
   "metadata": {},
   "outputs": [],
   "source": [
    "sales_state = df.groupby(['Product_ID'], as_index=False)['Orders'].sum().sort_values(by='Orders', ascending=False).head(10)\n",
    "\n",
    "sns.set(rc={'figure.figsize':(20,5)})\n",
    "sns.barplot(data = sales_state, x = 'Product_ID',y= 'Orders')"
   ]
  },
  {
   "cell_type": "code",
   "execution_count": null,
   "id": "3a644267",
   "metadata": {},
   "outputs": [],
   "source": [
    "# top 10 most sold products (same thing as above)\n",
    "\n",
    "fig1, ax1 = plt.subplots(figsize=(12,7))\n",
    "df.groupby('Product_ID')['Orders'].sum().nlargest(10).sort_values(ascending=False).plot(kind='bar')"
   ]
  },
  {
   "cell_type": "code",
   "execution_count": null,
   "id": "030a6da6",
   "metadata": {},
   "outputs": [],
   "source": [
    "# Conclusion:\n",
    "# Married women age group 26-35 yrs from UP, Maharastra and Karnataka working in IT, Healthcare and Aviation are more likely to buy products from Food, Clothing and Electronics category."
   ]
  }
 ],
 "metadata": {
  "kernelspec": {
   "display_name": "Python 3 (ipykernel)",
   "language": "python",
   "name": "python3"
  },
  "language_info": {
   "codemirror_mode": {
    "name": "ipython",
    "version": 3
   },
   "file_extension": ".py",
   "mimetype": "text/x-python",
   "name": "python",
   "nbconvert_exporter": "python",
   "pygments_lexer": "ipython3",
   "version": "3.10.9"
  }
 },
 "nbformat": 4,
 "nbformat_minor": 5
}
